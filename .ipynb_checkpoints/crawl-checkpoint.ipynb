{
 "cells": [
  {
   "cell_type": "code",
   "execution_count": 1,
   "metadata": {},
   "outputs": [],
   "source": [
    "import requests"
   ]
  },
  {
   "cell_type": "code",
   "execution_count": 2,
   "metadata": {},
   "outputs": [],
   "source": [
    "from bs4 import BeautifulSoup"
   ]
  },
  {
   "cell_type": "code",
   "execution_count": 31,
   "metadata": {},
   "outputs": [],
   "source": [
    "url = 'https://finance.naver.com/news/news_list.nhn?mode=LSS2D&section_id=101&section_id2=258'\n",
    "req = requests.get(url)"
   ]
  },
  {
   "cell_type": "code",
   "execution_count": 32,
   "metadata": {},
   "outputs": [],
   "source": [
    "html = req.text\n",
    "soup = BeautifulSoup(html, 'html.parser')"
   ]
  },
  {
   "cell_type": "code",
   "execution_count": 35,
   "metadata": {},
   "outputs": [
    {
     "name": "stdout",
     "output_type": "stream",
     "text": [
      "[<dt class=\"articleSubject\">\n",
      "<a href=\"/news/news_read.nhn?article_id=0004775633&amp;office_id=018&amp;mode=LSS2D&amp;type=0§ion_id=101§ion_id2=258§ion_id3=&amp;date=20201102&amp;page=1\" title=\"파트론, 3분기 영업익 221억원…전년동기比 28.2%↓\">파트론, 3분기 영업익 221억원…전년동기比 28.2%↓</a>\n",
      "</dt>, <dd class=\"articleSubject\">\n",
      "<a href=\"/news/news_read.nhn?article_id=0000912296&amp;office_id=215&amp;mode=LSS2D&amp;type=0§ion_id=101§ion_id2=258§ion_id3=&amp;date=20201102&amp;page=1\" title=\"예탁원, 부산 사회적경제 지원기금(BEF) 금융지원\">예탁원, 부산 사회적경제 지원기금(BEF) 금융지원</a>\n",
      "</dd>, <dd class=\"articleSubject\">\n",
      "<a href=\"/news/news_read.nhn?article_id=0002439963&amp;office_id=119&amp;mode=LSS2D&amp;type=0§ion_id=101§ion_id2=258§ion_id3=&amp;date=20201102&amp;page=1\" title=\"NH투자증권, 연금저축 특집 ‘THE100리포트’ 67호 발간\">NH투자증권, 연금저축 특집 ‘THE100리포트’ 67호 발간</a>\n",
      "</dd>, <dd class=\"articleSubject\">\n",
      "<a href=\"/news/news_read.nhn?article_id=0004687144&amp;office_id=009&amp;mode=LSS2D&amp;type=0§ion_id=101§ion_id2=258§ion_id3=&amp;date=20201102&amp;page=1\" title=\"[레이더M] VIG파트너스, 정연박 변호사 전무로 영입\">[레이더M] VIG파트너스, 정연박 변호사 전무로 영입</a>\n",
      "</dd>, <dt class=\"articleSubject\">\n",
      "<a href=\"/news/news_read.nhn?article_id=0004775627&amp;office_id=018&amp;mode=LSS2D&amp;type=0§ion_id=101§ion_id2=258§ion_id3=&amp;date=20201102&amp;page=1\" title=\"인피니티파트너스, 지배회사 자금 회수 위해 유상감자\">인피니티파트너스, 지배회사 자금 회수 위해 유상감자</a>\n",
      "</dt>, <dt class=\"articleSubject\">\n",
      "<a href=\"/news/news_read.nhn?article_id=0004775626&amp;office_id=018&amp;mode=LSS2D&amp;type=0§ion_id=101§ion_id2=258§ion_id3=&amp;date=20201102&amp;page=1\" title=\"효성화학, 계열사에 100억원대 채무 보증\">효성화학, 계열사에 100억원대 채무 보증</a>\n",
      "</dt>, <dd class=\"articleSubject\">\n",
      "<a href=\"/news/news_read.nhn?article_id=0004442143&amp;office_id=015&amp;mode=LSS2D&amp;type=0§ion_id=101§ion_id2=258§ion_id3=&amp;date=20201102&amp;page=1\" title='대학·공공기관도 \"기금 굴려달라\"…OCIO 시장 급성장'>대학·공공기관도 \"기금 굴려달라\"…OCIO 시장 급성장</a>\n",
      "</dd>, <dd class=\"articleSubject\">\n",
      "<a href=\"/news/news_read.nhn?article_id=0004442140&amp;office_id=015&amp;mode=LSS2D&amp;type=0§ion_id=101§ion_id2=258§ion_id3=&amp;date=20201102&amp;page=1\" title=\"&quot;코스피, 내년 '백두산' 오른다&quot;\">\"코스피, 내년 '백두산' 오른다\"</a>\n",
      "</dd>, <dd class=\"articleSubject\">\n",
      "<a href=\"/news/news_read.nhn?article_id=0004442135&amp;office_id=015&amp;mode=LSS2D&amp;type=0§ion_id=101§ion_id2=258§ion_id3=&amp;date=20201102&amp;page=1\" title=\"美 대통령 누가 돼도 금리 상승…은행株 '들썩'\">美 대통령 누가 돼도 금리 상승…은행株 '들썩'</a>\n",
      "</dd>, <dt class=\"articleSubject\">\n",
      "<a href=\"/news/news_read.nhn?article_id=0004775619&amp;office_id=018&amp;mode=LSS2D&amp;type=0§ion_id=101§ion_id2=258§ion_id3=&amp;date=20201102&amp;page=1\" title=\"나인테크, 42.7억원 규모 자사주 처분 결정\">나인테크, 42.7억원 규모 자사주 처분 결정</a>\n",
      "</dt>, <dd class=\"articleSubject\">\n",
      "<a href=\"/news/news_read.nhn?article_id=0004442131&amp;office_id=015&amp;mode=LSS2D&amp;type=0§ion_id=101§ion_id2=258§ion_id3=&amp;date=20201102&amp;page=1\" title=\"'화상회의앱' 줌, '석유왕국' 엑슨모빌 시총 넘었다\">'화상회의앱' 줌, '석유왕국' 엑슨모빌 시총 넘었다</a>\n",
      "</dd>, <dt class=\"articleSubject\">\n",
      "<a href=\"/news/news_read.nhn?article_id=0004442130&amp;office_id=015&amp;mode=LSS2D&amp;type=0§ion_id=101§ion_id2=258§ion_id3=&amp;date=20201102&amp;page=1\" title=\"한국타이어앤테크놀로지, 영업이익 2247억원\">한국타이어앤테크놀로지, 영업이익 2247억원</a>\n",
      "</dt>, <dd class=\"articleSubject\">\n",
      "<a href=\"/news/news_read.nhn?article_id=0004775618&amp;office_id=018&amp;mode=LSS2D&amp;type=0§ion_id=101§ion_id2=258§ion_id3=&amp;date=20201102&amp;page=1\" title=\"신용거래융자, 5거래일 만에 증가…16조4294억원\">신용거래융자, 5거래일 만에 증가…16조4294억원</a>\n",
      "</dd>, <dd class=\"articleSubject\">\n",
      "<a href=\"/news/news_read.nhn?article_id=0004442126&amp;office_id=015&amp;mode=LSS2D&amp;type=0§ion_id=101§ion_id2=258§ion_id3=&amp;date=20201102&amp;page=1\" title=\"가치주 펀드 반등…'저평가株' 매력 높아진다\">가치주 펀드 반등…'저평가株' 매력 높아진다</a>\n",
      "</dd>, <dd class=\"articleSubject\">\n",
      "<a href=\"/news/news_read.nhn?article_id=0004493673&amp;office_id=008&amp;mode=LSS2D&amp;type=0§ion_id=101§ion_id2=258§ion_id3=&amp;date=20201102&amp;page=1\" title=\"[장외주식] 기업공개(IPO)관련주 조정\">[장외주식] 기업공개(IPO)관련주 조정</a>\n",
      "</dd>, <dt class=\"articleSubject\">\n",
      "<a href=\"/news/news_read.nhn?article_id=0004442124&amp;office_id=015&amp;mode=LSS2D&amp;type=0§ion_id=101§ion_id2=258§ion_id3=&amp;date=20201102&amp;page=1\" title=\"코리아세일페스타 개막…수혜주는?\">코리아세일페스타 개막…수혜주는?</a>\n",
      "</dt>, <dd class=\"articleSubject\">\n",
      "<a href=\"/news/news_read.nhn?article_id=0000612991&amp;office_id=366&amp;mode=LSS2D&amp;type=0§ion_id=101§ion_id2=258§ion_id3=&amp;date=20201102&amp;page=1\" title=\"치킨 판매 1위 '교촌' 공모가 1만2300원…3~4일 이틀간 청약 진행\">치킨 판매 1위 '교촌' 공모가 1만2300원…3~4일 이틀간 청약 진행</a>\n",
      "</dd>, <dt class=\"articleSubject\">\n",
      "<a href=\"/news/news_read.nhn?article_id=0004775616&amp;office_id=018&amp;mode=LSS2D&amp;type=0§ion_id=101§ion_id2=258§ion_id3=&amp;date=20201102&amp;page=1\" title=\"에이프런티어, 김정국 단독 대표이사 체제로\">에이프런티어, 김정국 단독 대표이사 체제로</a>\n",
      "</dt>, <dd class=\"articleSubject\">\n",
      "<a href=\"/news/news_read.nhn?article_id=0004442121&amp;office_id=015&amp;mode=LSS2D&amp;type=0§ion_id=101§ion_id2=258§ion_id3=&amp;date=20201102&amp;page=1\" title=\"하늘길 안 열려도…실적 살아난 호텔신라\">하늘길 안 열려도…실적 살아난 호텔신라</a>\n",
      "</dd>, <dt class=\"articleSubject\">\n",
      "<a href=\"/news/news_read.nhn?article_id=0004442120&amp;office_id=015&amp;mode=LSS2D&amp;type=0§ion_id=101§ion_id2=258§ion_id3=&amp;date=20201102&amp;page=1\" title=\"카카오페이 상장 공동 주관사에 삼성증권·JP모간\">카카오페이 상장 공동 주관사에 삼성증권·JP모간</a>\n",
      "</dt>]\n",
      "<dt class=\"articleSubject\">\n",
      "<a href=\"/news/news_read.nhn?article_id=0004775633&amp;office_id=018&amp;mode=LSS2D&amp;type=0§ion_id=101§ion_id2=258§ion_id3=&amp;date=20201102&amp;page=1\" title=\"파트론, 3분기 영업익 221억원…전년동기比 28.2%↓\">파트론, 3분기 영업익 221억원…전년동기比 28.2%↓</a>\n",
      "</dt>\n"
     ]
    }
   ],
   "source": [
    "soup\n",
    "result = soup.findAll(class_='articleSubject')\n",
    "print(result)\n"
   ]
  },
  {
   "cell_type": "code",
   "execution_count": 37,
   "metadata": {},
   "outputs": [
    {
     "name": "stdout",
     "output_type": "stream",
     "text": [
      "<dd class=\"articleSubject\">\n",
      "<a href=\"/news/news_read.nhn?article_id=0000912296&amp;office_id=215&amp;mode=LSS2D&amp;type=0§ion_id=101§ion_id2=258§ion_id3=&amp;date=20201102&amp;page=1\" title=\"예탁원, 부산 사회적경제 지원기금(BEF) 금융지원\">예탁원, 부산 사회적경제 지원기금(BEF) 금융지원</a>\n",
      "</dd>\n"
     ]
    }
   ],
   "source": [
    "print(result[1])"
   ]
  },
  {
   "cell_type": "code",
   "execution_count": 41,
   "metadata": {},
   "outputs": [
    {
     "name": "stdout",
     "output_type": "stream",
     "text": [
      "None\n"
     ]
    }
   ],
   "source": [
    "print(result[0].get('a'))"
   ]
  },
  {
   "cell_type": "code",
   "execution_count": null,
   "metadata": {},
   "outputs": [],
   "source": []
  }
 ],
 "metadata": {
  "kernelspec": {
   "display_name": "Python 3",
   "language": "python",
   "name": "python3"
  },
  "language_info": {
   "codemirror_mode": {
    "name": "ipython",
    "version": 3
   },
   "file_extension": ".py",
   "mimetype": "text/x-python",
   "name": "python",
   "nbconvert_exporter": "python",
   "pygments_lexer": "ipython3",
   "version": "3.7.4"
  }
 },
 "nbformat": 4,
 "nbformat_minor": 2
}
